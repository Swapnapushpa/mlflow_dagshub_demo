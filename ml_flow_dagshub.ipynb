{
 "cells": [
  {
   "cell_type": "markdown",
   "id": "b4f9d400",
   "metadata": {},
   "source": [
    "<h2 align='center'>Codebasics ML Course: ML Flow Dagshub Tutorial</h2>"
   ]
  },
  {
   "cell_type": "code",
   "execution_count": 1,
   "id": "5eb3c2b2",
   "metadata": {},
   "outputs": [],
   "source": [
    "import numpy as np\n",
    "from sklearn.datasets import make_classification\n",
    "from sklearn.model_selection import train_test_split\n",
    "from sklearn.linear_model import LogisticRegression\n",
    "from sklearn.ensemble import RandomForestClassifier\n",
    "from xgboost import XGBClassifier\n",
    "from sklearn.metrics import classification_report\n",
    "import warnings\n",
    "warnings.filterwarnings('ignore')"
   ]
  },
  {
   "cell_type": "code",
   "execution_count": 2,
   "id": "0878fc4c",
   "metadata": {},
   "outputs": [
    {
     "data": {
      "text/plain": [
       "(array([0, 1]), array([900, 100], dtype=int64))"
      ]
     },
     "execution_count": 2,
     "metadata": {},
     "output_type": "execute_result"
    }
   ],
   "source": [
    "# Step 1: Create an imbalanced binary classification dataset\n",
    "X, y = make_classification(n_samples=1000, n_features=10, n_informative=2, n_redundant=8, \n",
    "                           weights=[0.9, 0.1], flip_y=0, random_state=42)\n",
    "\n",
    "np.unique(y, return_counts=True)"
   ]
  },
  {
   "cell_type": "code",
   "execution_count": 3,
   "id": "2a6b80dd",
   "metadata": {},
   "outputs": [],
   "source": [
    "# Split the dataset into training and testing sets\n",
    "X_train, X_test, y_train, y_test = train_test_split(X, y, test_size=0.3, stratify=y, random_state=42)"
   ]
  },
  {
   "cell_type": "markdown",
   "id": "f3a6191b",
   "metadata": {},
   "source": [
    "#### Handle class imbalance"
   ]
  },
  {
   "cell_type": "code",
   "execution_count": 4,
   "id": "3190fd47",
   "metadata": {},
   "outputs": [
    {
     "data": {
      "text/plain": [
       "(array([0, 1]), array([619, 619], dtype=int64))"
      ]
     },
     "execution_count": 4,
     "metadata": {},
     "output_type": "execute_result"
    }
   ],
   "source": [
    "from imblearn.combine import SMOTETomek\n",
    "\n",
    "smt = SMOTETomek(random_state=42)\n",
    "X_train_res, y_train_res = smt.fit_resample(X_train, y_train)\n",
    "np.unique(y_train_res, return_counts=True)"
   ]
  },
  {
   "cell_type": "markdown",
   "id": "75b6f715",
   "metadata": {},
   "source": [
    "### Track Experiments"
   ]
  },
  {
   "cell_type": "code",
   "execution_count": 15,
   "id": "1eb49554",
   "metadata": {},
   "outputs": [],
   "source": [
    "models = [\n",
    "    # (\n",
    "    #     \"Logistic Regression\", \n",
    "    #     {\"C\": 1, \"solver\": 'liblinear'},\n",
    "    #     LogisticRegression(), \n",
    "    #     (X_train, y_train),\n",
    "    #     (X_test, y_test)\n",
    "    # ),\n",
    "    # (\n",
    "    #     \"Random Forest\", \n",
    "    #     {\"n_estimators\": 30, \"max_depth\": 3},\n",
    "    #     RandomForestClassifier(), \n",
    "    #     (X_train, y_train),\n",
    "    #     (X_test, y_test)\n",
    "    # ),\n",
    "    (\n",
    "        \"XGBClassifier\",\n",
    "        {\"use_label_encoder\": False, \"eval_metric\": 'logloss'},\n",
    "        XGBClassifier(), \n",
    "        (X_train, y_train),\n",
    "        (X_test, y_test)\n",
    "    ),\n",
    "    (\n",
    "        \"XGBClassifier With SMOTE\",\n",
    "        {\"use_label_encoder\": False, \"eval_metric\": 'logloss'},\n",
    "        XGBClassifier(), \n",
    "        (X_train_res, y_train_res),\n",
    "        (X_test, y_test)\n",
    "    )\n",
    "]"
   ]
  },
  {
   "cell_type": "code",
   "execution_count": 16,
   "id": "a91ad5ae",
   "metadata": {},
   "outputs": [],
   "source": [
    "reports = []\n",
    "\n",
    "for model_name, params, model, train_set, test_set in models:\n",
    "    X_train = train_set[0]\n",
    "    y_train = train_set[1]\n",
    "    X_test = test_set[0]\n",
    "    y_test = test_set[1]\n",
    "    \n",
    "    model.set_params(**params)\n",
    "    model.fit(X_train, y_train)\n",
    "    y_pred = model.predict(X_test)\n",
    "    report = classification_report(y_test, y_pred, output_dict=True)\n",
    "    reports.append(report)"
   ]
  },
  {
   "cell_type": "code",
   "execution_count": 17,
   "id": "08741b0a",
   "metadata": {},
   "outputs": [],
   "source": [
    "import mlflow\n",
    "import mlflow.sklearn\n",
    "import mlflow.xgboost"
   ]
  },
  {
   "cell_type": "code",
   "execution_count": 18,
   "id": "503f6e93",
   "metadata": {},
   "outputs": [
    {
     "data": {
      "text/html": [
       "<pre style=\"white-space:pre;overflow-x:auto;line-height:normal;font-family:Menlo,'DejaVu Sans Mono',consolas,'Courier New',monospace\">Initialized MLflow to track repo <span style=\"color: #008000; text-decoration-color: #008000\">\"pushkarkishor.wankhede/mlflow_dagshub_demo\"</span>\n",
       "</pre>\n"
      ],
      "text/plain": [
       "Initialized MLflow to track repo \u001b[32m\"pushkarkishor.wankhede/mlflow_dagshub_demo\"\u001b[0m\n"
      ]
     },
     "metadata": {},
     "output_type": "display_data"
    },
    {
     "data": {
      "text/html": [
       "<pre style=\"white-space:pre;overflow-x:auto;line-height:normal;font-family:Menlo,'DejaVu Sans Mono',consolas,'Courier New',monospace\">Repository pushkarkishor.wankhede/mlflow_dagshub_demo initialized!\n",
       "</pre>\n"
      ],
      "text/plain": [
       "Repository pushkarkishor.wankhede/mlflow_dagshub_demo initialized!\n"
      ]
     },
     "metadata": {},
     "output_type": "display_data"
    }
   ],
   "source": [
    "# dagshub setup\n",
    "\n",
    "import dagshub\n",
    "dagshub.init(repo_owner='pushkarkishor.wankhede', repo_name='mlflow_dagshub_demo', mlflow=True)"
   ]
  },
  {
   "cell_type": "code",
   "execution_count": 19,
   "id": "cfcc9a19",
   "metadata": {
    "scrolled": false
   },
   "outputs": [
    {
     "name": "stderr",
     "output_type": "stream",
     "text": [
      "2025/06/21 19:11:36 WARNING mlflow.models.model: `artifact_path` is deprecated. Please use `name` instead.\n"
     ]
    },
    {
     "name": "stdout",
     "output_type": "stream",
     "text": [
      "🏃 View run XGBClassifier at: https://dagshub.com/pushkarkishor.wankhede/mlflow_dagshub_demo.mlflow/#/experiments/0/runs/4cde056b251c460f93835624394a53c6\n",
      "🧪 View experiment at: https://dagshub.com/pushkarkishor.wankhede/mlflow_dagshub_demo.mlflow/#/experiments/0\n"
     ]
    },
    {
     "ename": "RestException",
     "evalue": "INTERNAL_ERROR: Response: {'error': 'unsupported endpoint, please contact support@dagshub.com'}",
     "output_type": "error",
     "traceback": [
      "\u001b[1;31m---------------------------------------------------------------------------\u001b[0m",
      "\u001b[1;31mRestException\u001b[0m                             Traceback (most recent call last)",
      "Cell \u001b[1;32mIn[19], line 27\u001b[0m\n\u001b[0;32m     19\u001b[0m mlflow\u001b[38;5;241m.\u001b[39mlog_metrics({\n\u001b[0;32m     20\u001b[0m     \u001b[38;5;124m'\u001b[39m\u001b[38;5;124maccuracy\u001b[39m\u001b[38;5;124m'\u001b[39m: report[\u001b[38;5;124m'\u001b[39m\u001b[38;5;124maccuracy\u001b[39m\u001b[38;5;124m'\u001b[39m],\n\u001b[0;32m     21\u001b[0m     \u001b[38;5;124m'\u001b[39m\u001b[38;5;124mrecall_class_1\u001b[39m\u001b[38;5;124m'\u001b[39m: report[\u001b[38;5;124m'\u001b[39m\u001b[38;5;124m1\u001b[39m\u001b[38;5;124m'\u001b[39m][\u001b[38;5;124m'\u001b[39m\u001b[38;5;124mrecall\u001b[39m\u001b[38;5;124m'\u001b[39m],\n\u001b[0;32m     22\u001b[0m     \u001b[38;5;124m'\u001b[39m\u001b[38;5;124mrecall_class_0\u001b[39m\u001b[38;5;124m'\u001b[39m: report[\u001b[38;5;124m'\u001b[39m\u001b[38;5;124m0\u001b[39m\u001b[38;5;124m'\u001b[39m][\u001b[38;5;124m'\u001b[39m\u001b[38;5;124mrecall\u001b[39m\u001b[38;5;124m'\u001b[39m],\n\u001b[0;32m     23\u001b[0m     \u001b[38;5;124m'\u001b[39m\u001b[38;5;124mf1_score_macro\u001b[39m\u001b[38;5;124m'\u001b[39m: report[\u001b[38;5;124m'\u001b[39m\u001b[38;5;124mmacro avg\u001b[39m\u001b[38;5;124m'\u001b[39m][\u001b[38;5;124m'\u001b[39m\u001b[38;5;124mf1-score\u001b[39m\u001b[38;5;124m'\u001b[39m]\n\u001b[0;32m     24\u001b[0m })  \n\u001b[0;32m     26\u001b[0m \u001b[38;5;28;01mif\u001b[39;00m \u001b[38;5;124m\"\u001b[39m\u001b[38;5;124mXGB\u001b[39m\u001b[38;5;124m\"\u001b[39m \u001b[38;5;129;01min\u001b[39;00m model_name:\n\u001b[1;32m---> 27\u001b[0m     mlflow\u001b[38;5;241m.\u001b[39mxgboost\u001b[38;5;241m.\u001b[39mlog_model(model, \u001b[38;5;124m\"\u001b[39m\u001b[38;5;124mmodel\u001b[39m\u001b[38;5;124m\"\u001b[39m)\n\u001b[0;32m     28\u001b[0m \u001b[38;5;28;01melse\u001b[39;00m:\n\u001b[0;32m     29\u001b[0m     mlflow\u001b[38;5;241m.\u001b[39msklearn\u001b[38;5;241m.\u001b[39mlog_model(model, \u001b[38;5;124m\"\u001b[39m\u001b[38;5;124mmodel\u001b[39m\u001b[38;5;124m\"\u001b[39m)\n",
      "File \u001b[1;32mc:\\Users\\swapn\\anaconda3\\Lib\\site-packages\\mlflow\\xgboost\\__init__.py:278\u001b[0m, in \u001b[0;36mlog_model\u001b[1;34m(xgb_model, artifact_path, conda_env, code_paths, registered_model_name, signature, input_example, await_registration_for, pip_requirements, extra_pip_requirements, model_format, metadata, name, params, tags, model_type, step, model_id, **kwargs)\u001b[0m\n\u001b[0;32m    224\u001b[0m \u001b[38;5;129m@format_docstring\u001b[39m(LOG_MODEL_PARAM_DOCS\u001b[38;5;241m.\u001b[39mformat(package_name\u001b[38;5;241m=\u001b[39mFLAVOR_NAME))\n\u001b[0;32m    225\u001b[0m \u001b[38;5;28;01mdef\u001b[39;00m \u001b[38;5;21mlog_model\u001b[39m(\n\u001b[0;32m    226\u001b[0m     xgb_model,\n\u001b[1;32m   (...)\u001b[0m\n\u001b[0;32m    244\u001b[0m     \u001b[38;5;241m*\u001b[39m\u001b[38;5;241m*\u001b[39mkwargs,\n\u001b[0;32m    245\u001b[0m ):\n\u001b[0;32m    246\u001b[0m \u001b[38;5;250m    \u001b[39m\u001b[38;5;124;03m\"\"\"Log an XGBoost model as an MLflow artifact for the current run.\u001b[39;00m\n\u001b[0;32m    247\u001b[0m \n\u001b[0;32m    248\u001b[0m \u001b[38;5;124;03m    Args:\u001b[39;00m\n\u001b[1;32m   (...)\u001b[0m\n\u001b[0;32m    276\u001b[0m \u001b[38;5;124;03m        metadata of the logged model.\u001b[39;00m\n\u001b[0;32m    277\u001b[0m \u001b[38;5;124;03m    \"\"\"\u001b[39;00m\n\u001b[1;32m--> 278\u001b[0m     \u001b[38;5;28;01mreturn\u001b[39;00m Model\u001b[38;5;241m.\u001b[39mlog(\n\u001b[0;32m    279\u001b[0m         artifact_path\u001b[38;5;241m=\u001b[39martifact_path,\n\u001b[0;32m    280\u001b[0m         name\u001b[38;5;241m=\u001b[39mname,\n\u001b[0;32m    281\u001b[0m         flavor\u001b[38;5;241m=\u001b[39mmlflow\u001b[38;5;241m.\u001b[39mxgboost,\n\u001b[0;32m    282\u001b[0m         registered_model_name\u001b[38;5;241m=\u001b[39mregistered_model_name,\n\u001b[0;32m    283\u001b[0m         xgb_model\u001b[38;5;241m=\u001b[39mxgb_model,\n\u001b[0;32m    284\u001b[0m         model_format\u001b[38;5;241m=\u001b[39mmodel_format,\n\u001b[0;32m    285\u001b[0m         conda_env\u001b[38;5;241m=\u001b[39mconda_env,\n\u001b[0;32m    286\u001b[0m         code_paths\u001b[38;5;241m=\u001b[39mcode_paths,\n\u001b[0;32m    287\u001b[0m         signature\u001b[38;5;241m=\u001b[39msignature,\n\u001b[0;32m    288\u001b[0m         input_example\u001b[38;5;241m=\u001b[39minput_example,\n\u001b[0;32m    289\u001b[0m         await_registration_for\u001b[38;5;241m=\u001b[39mawait_registration_for,\n\u001b[0;32m    290\u001b[0m         pip_requirements\u001b[38;5;241m=\u001b[39mpip_requirements,\n\u001b[0;32m    291\u001b[0m         extra_pip_requirements\u001b[38;5;241m=\u001b[39mextra_pip_requirements,\n\u001b[0;32m    292\u001b[0m         metadata\u001b[38;5;241m=\u001b[39mmetadata,\n\u001b[0;32m    293\u001b[0m         params\u001b[38;5;241m=\u001b[39mparams,\n\u001b[0;32m    294\u001b[0m         tags\u001b[38;5;241m=\u001b[39mtags,\n\u001b[0;32m    295\u001b[0m         model_type\u001b[38;5;241m=\u001b[39mmodel_type,\n\u001b[0;32m    296\u001b[0m         step\u001b[38;5;241m=\u001b[39mstep,\n\u001b[0;32m    297\u001b[0m         model_id\u001b[38;5;241m=\u001b[39mmodel_id,\n\u001b[0;32m    298\u001b[0m         \u001b[38;5;241m*\u001b[39m\u001b[38;5;241m*\u001b[39mkwargs,\n\u001b[0;32m    299\u001b[0m     )\n",
      "File \u001b[1;32mc:\\Users\\swapn\\anaconda3\\Lib\\site-packages\\mlflow\\models\\model.py:1161\u001b[0m, in \u001b[0;36mModel.log\u001b[1;34m(cls, artifact_path, flavor, registered_model_name, await_registration_for, metadata, run_id, resources, auth_policy, prompts, name, model_type, params, tags, step, model_id, **kwargs)\u001b[0m\n\u001b[0;32m   1156\u001b[0m \u001b[38;5;28;01melse\u001b[39;00m:\n\u001b[0;32m   1157\u001b[0m     params \u001b[38;5;241m=\u001b[39m {\n\u001b[0;32m   1158\u001b[0m         \u001b[38;5;241m*\u001b[39m\u001b[38;5;241m*\u001b[39m(params \u001b[38;5;129;01mor\u001b[39;00m {}),\n\u001b[0;32m   1159\u001b[0m         \u001b[38;5;241m*\u001b[39m\u001b[38;5;241m*\u001b[39m(client\u001b[38;5;241m.\u001b[39mget_run(run_id)\u001b[38;5;241m.\u001b[39mdata\u001b[38;5;241m.\u001b[39mparams \u001b[38;5;28;01mif\u001b[39;00m run_id \u001b[38;5;28;01melse\u001b[39;00m {}),\n\u001b[0;32m   1160\u001b[0m     }\n\u001b[1;32m-> 1161\u001b[0m     model \u001b[38;5;241m=\u001b[39m mlflow\u001b[38;5;241m.\u001b[39minitialize_logged_model(\n\u001b[0;32m   1162\u001b[0m         \u001b[38;5;66;03m# TODO: Update model name\u001b[39;00m\n\u001b[0;32m   1163\u001b[0m         name\u001b[38;5;241m=\u001b[39mname,\n\u001b[0;32m   1164\u001b[0m         source_run_id\u001b[38;5;241m=\u001b[39mrun_id,\n\u001b[0;32m   1165\u001b[0m         model_type\u001b[38;5;241m=\u001b[39mmodel_type,\n\u001b[0;32m   1166\u001b[0m         params\u001b[38;5;241m=\u001b[39m{key: \u001b[38;5;28mstr\u001b[39m(value) \u001b[38;5;28;01mfor\u001b[39;00m key, value \u001b[38;5;129;01min\u001b[39;00m params\u001b[38;5;241m.\u001b[39mitems()},\n\u001b[0;32m   1167\u001b[0m         tags\u001b[38;5;241m=\u001b[39m{key: \u001b[38;5;28mstr\u001b[39m(value) \u001b[38;5;28;01mfor\u001b[39;00m key, value \u001b[38;5;129;01min\u001b[39;00m tags\u001b[38;5;241m.\u001b[39mitems()}\n\u001b[0;32m   1168\u001b[0m         \u001b[38;5;28;01mif\u001b[39;00m tags \u001b[38;5;129;01mis\u001b[39;00m \u001b[38;5;129;01mnot\u001b[39;00m \u001b[38;5;28;01mNone\u001b[39;00m\n\u001b[0;32m   1169\u001b[0m         \u001b[38;5;28;01melse\u001b[39;00m \u001b[38;5;28;01mNone\u001b[39;00m,\n\u001b[0;32m   1170\u001b[0m     )\n\u001b[0;32m   1171\u001b[0m     \u001b[38;5;28;01mif\u001b[39;00m (\n\u001b[0;32m   1172\u001b[0m         MLFLOW_PRINT_MODEL_URLS_ON_CREATION\u001b[38;5;241m.\u001b[39mget()\n\u001b[0;32m   1173\u001b[0m         \u001b[38;5;129;01mand\u001b[39;00m is_databricks_uri(tracking_uri)\n\u001b[0;32m   1174\u001b[0m         \u001b[38;5;129;01mand\u001b[39;00m (workspace_url \u001b[38;5;241m:=\u001b[39m get_workspace_url())\n\u001b[0;32m   1175\u001b[0m     ):\n\u001b[0;32m   1176\u001b[0m         logged_model_url \u001b[38;5;241m=\u001b[39m _construct_databricks_logged_model_url(\n\u001b[0;32m   1177\u001b[0m             workspace_url,\n\u001b[0;32m   1178\u001b[0m             model\u001b[38;5;241m.\u001b[39mexperiment_id,\n\u001b[0;32m   1179\u001b[0m             model\u001b[38;5;241m.\u001b[39mmodel_id,\n\u001b[0;32m   1180\u001b[0m             get_workspace_id(),\n\u001b[0;32m   1181\u001b[0m         )\n",
      "File \u001b[1;32mc:\\Users\\swapn\\anaconda3\\Lib\\site-packages\\mlflow\\tracking\\fluent.py:2130\u001b[0m, in \u001b[0;36minitialize_logged_model\u001b[1;34m(name, source_run_id, tags, params, model_type, experiment_id)\u001b[0m\n\u001b[0;32m   2104\u001b[0m \u001b[38;5;129m@experimental\u001b[39m\n\u001b[0;32m   2105\u001b[0m \u001b[38;5;28;01mdef\u001b[39;00m \u001b[38;5;21minitialize_logged_model\u001b[39m(\n\u001b[0;32m   2106\u001b[0m     name: Optional[\u001b[38;5;28mstr\u001b[39m] \u001b[38;5;241m=\u001b[39m \u001b[38;5;28;01mNone\u001b[39;00m,\n\u001b[1;32m   (...)\u001b[0m\n\u001b[0;32m   2111\u001b[0m     experiment_id: Optional[\u001b[38;5;28mstr\u001b[39m] \u001b[38;5;241m=\u001b[39m \u001b[38;5;28;01mNone\u001b[39;00m,\n\u001b[0;32m   2112\u001b[0m ) \u001b[38;5;241m-\u001b[39m\u001b[38;5;241m>\u001b[39m LoggedModel:\n\u001b[0;32m   2113\u001b[0m \u001b[38;5;250m    \u001b[39m\u001b[38;5;124;03m\"\"\"\u001b[39;00m\n\u001b[0;32m   2114\u001b[0m \u001b[38;5;124;03m    Initialize a LoggedModel. Creates a LoggedModel with status ``PENDING`` and no artifacts. You\u001b[39;00m\n\u001b[0;32m   2115\u001b[0m \u001b[38;5;124;03m    must add artifacts to the model and finalize it to the ``READY`` state, for example by calling\u001b[39;00m\n\u001b[1;32m   (...)\u001b[0m\n\u001b[0;32m   2128\u001b[0m \u001b[38;5;124;03m        A new :py:class:`mlflow.entities.LoggedModel` object with status ``PENDING``.\u001b[39;00m\n\u001b[0;32m   2129\u001b[0m \u001b[38;5;124;03m    \"\"\"\u001b[39;00m\n\u001b[1;32m-> 2130\u001b[0m     model \u001b[38;5;241m=\u001b[39m _create_logged_model(\n\u001b[0;32m   2131\u001b[0m         name\u001b[38;5;241m=\u001b[39mname,\n\u001b[0;32m   2132\u001b[0m         source_run_id\u001b[38;5;241m=\u001b[39msource_run_id,\n\u001b[0;32m   2133\u001b[0m         tags\u001b[38;5;241m=\u001b[39mtags,\n\u001b[0;32m   2134\u001b[0m         params\u001b[38;5;241m=\u001b[39mparams,\n\u001b[0;32m   2135\u001b[0m         model_type\u001b[38;5;241m=\u001b[39mmodel_type,\n\u001b[0;32m   2136\u001b[0m         experiment_id\u001b[38;5;241m=\u001b[39mexperiment_id,\n\u001b[0;32m   2137\u001b[0m     )\n\u001b[0;32m   2138\u001b[0m     _last_logged_model_id\u001b[38;5;241m.\u001b[39mset(model\u001b[38;5;241m.\u001b[39mmodel_id)\n\u001b[0;32m   2139\u001b[0m     \u001b[38;5;28;01mreturn\u001b[39;00m model\n",
      "File \u001b[1;32mc:\\Users\\swapn\\anaconda3\\Lib\\site-packages\\mlflow\\tracking\\fluent.py:2257\u001b[0m, in \u001b[0;36m_create_logged_model\u001b[1;34m(name, source_run_id, tags, params, model_type, experiment_id)\u001b[0m\n\u001b[0;32m   2253\u001b[0m     experiment_id \u001b[38;5;241m=\u001b[39m _get_experiment_id() \u001b[38;5;129;01mor\u001b[39;00m (\n\u001b[0;32m   2254\u001b[0m         get_run(source_run_id)\u001b[38;5;241m.\u001b[39minfo\u001b[38;5;241m.\u001b[39mexperiment_id \u001b[38;5;28;01mif\u001b[39;00m source_run_id \u001b[38;5;28;01melse\u001b[39;00m \u001b[38;5;28;01mNone\u001b[39;00m\n\u001b[0;32m   2255\u001b[0m     )\n\u001b[0;32m   2256\u001b[0m resolved_tags \u001b[38;5;241m=\u001b[39m context_registry\u001b[38;5;241m.\u001b[39mresolve_tags(tags)\n\u001b[1;32m-> 2257\u001b[0m \u001b[38;5;28;01mreturn\u001b[39;00m MlflowClient()\u001b[38;5;241m.\u001b[39mcreate_logged_model(\n\u001b[0;32m   2258\u001b[0m     experiment_id\u001b[38;5;241m=\u001b[39mexperiment_id,\n\u001b[0;32m   2259\u001b[0m     name\u001b[38;5;241m=\u001b[39mname,\n\u001b[0;32m   2260\u001b[0m     source_run_id\u001b[38;5;241m=\u001b[39msource_run_id,\n\u001b[0;32m   2261\u001b[0m     tags\u001b[38;5;241m=\u001b[39mresolved_tags,\n\u001b[0;32m   2262\u001b[0m     params\u001b[38;5;241m=\u001b[39mparams,\n\u001b[0;32m   2263\u001b[0m     model_type\u001b[38;5;241m=\u001b[39mmodel_type,\n\u001b[0;32m   2264\u001b[0m )\n",
      "File \u001b[1;32mc:\\Users\\swapn\\anaconda3\\Lib\\site-packages\\mlflow\\tracking\\client.py:5356\u001b[0m, in \u001b[0;36mMlflowClient.create_logged_model\u001b[1;34m(self, experiment_id, name, source_run_id, tags, params, model_type)\u001b[0m\n\u001b[0;32m   5329\u001b[0m \u001b[38;5;129m@experimental\u001b[39m\n\u001b[0;32m   5330\u001b[0m \u001b[38;5;28;01mdef\u001b[39;00m \u001b[38;5;21mcreate_logged_model\u001b[39m(\n\u001b[0;32m   5331\u001b[0m     \u001b[38;5;28mself\u001b[39m,\n\u001b[1;32m   (...)\u001b[0m\n\u001b[0;32m   5337\u001b[0m     model_type: Optional[\u001b[38;5;28mstr\u001b[39m] \u001b[38;5;241m=\u001b[39m \u001b[38;5;28;01mNone\u001b[39;00m,\n\u001b[0;32m   5338\u001b[0m ) \u001b[38;5;241m-\u001b[39m\u001b[38;5;241m>\u001b[39m LoggedModel:\n\u001b[0;32m   5339\u001b[0m \u001b[38;5;250m    \u001b[39m\u001b[38;5;124;03m\"\"\"\u001b[39;00m\n\u001b[0;32m   5340\u001b[0m \u001b[38;5;124;03m    Create a new logged model.\u001b[39;00m\n\u001b[0;32m   5341\u001b[0m \n\u001b[1;32m   (...)\u001b[0m\n\u001b[0;32m   5354\u001b[0m \u001b[38;5;124;03m        The created model.\u001b[39;00m\n\u001b[0;32m   5355\u001b[0m \u001b[38;5;124;03m    \"\"\"\u001b[39;00m\n\u001b[1;32m-> 5356\u001b[0m     \u001b[38;5;28;01mreturn\u001b[39;00m \u001b[38;5;28mself\u001b[39m\u001b[38;5;241m.\u001b[39m_tracking_client\u001b[38;5;241m.\u001b[39mcreate_logged_model(\n\u001b[0;32m   5357\u001b[0m         experiment_id, name, source_run_id, tags, params, model_type\n\u001b[0;32m   5358\u001b[0m     )\n",
      "File \u001b[1;32mc:\\Users\\swapn\\anaconda3\\Lib\\site-packages\\mlflow\\tracking\\_tracking_service\\client.py:824\u001b[0m, in \u001b[0;36mTrackingServiceClient.create_logged_model\u001b[1;34m(self, experiment_id, name, source_run_id, tags, params, model_type)\u001b[0m\n\u001b[0;32m    815\u001b[0m \u001b[38;5;28;01mdef\u001b[39;00m \u001b[38;5;21mcreate_logged_model\u001b[39m(\n\u001b[0;32m    816\u001b[0m     \u001b[38;5;28mself\u001b[39m,\n\u001b[0;32m    817\u001b[0m     experiment_id: \u001b[38;5;28mstr\u001b[39m,\n\u001b[1;32m   (...)\u001b[0m\n\u001b[0;32m    822\u001b[0m     model_type: Optional[\u001b[38;5;28mstr\u001b[39m] \u001b[38;5;241m=\u001b[39m \u001b[38;5;28;01mNone\u001b[39;00m,\n\u001b[0;32m    823\u001b[0m ) \u001b[38;5;241m-\u001b[39m\u001b[38;5;241m>\u001b[39m LoggedModel:\n\u001b[1;32m--> 824\u001b[0m     \u001b[38;5;28;01mreturn\u001b[39;00m \u001b[38;5;28mself\u001b[39m\u001b[38;5;241m.\u001b[39mstore\u001b[38;5;241m.\u001b[39mcreate_logged_model(\n\u001b[0;32m    825\u001b[0m         experiment_id\u001b[38;5;241m=\u001b[39mexperiment_id,\n\u001b[0;32m    826\u001b[0m         name\u001b[38;5;241m=\u001b[39mname,\n\u001b[0;32m    827\u001b[0m         source_run_id\u001b[38;5;241m=\u001b[39msource_run_id,\n\u001b[0;32m    828\u001b[0m         tags\u001b[38;5;241m=\u001b[39m[LoggedModelTag(\u001b[38;5;28mstr\u001b[39m(key), \u001b[38;5;28mstr\u001b[39m(value)) \u001b[38;5;28;01mfor\u001b[39;00m key, value \u001b[38;5;129;01min\u001b[39;00m tags\u001b[38;5;241m.\u001b[39mitems()]\n\u001b[0;32m    829\u001b[0m         \u001b[38;5;28;01mif\u001b[39;00m tags \u001b[38;5;129;01mis\u001b[39;00m \u001b[38;5;129;01mnot\u001b[39;00m \u001b[38;5;28;01mNone\u001b[39;00m\n\u001b[0;32m    830\u001b[0m         \u001b[38;5;28;01melse\u001b[39;00m tags,\n\u001b[0;32m    831\u001b[0m         params\u001b[38;5;241m=\u001b[39m[LoggedModelParameter(\u001b[38;5;28mstr\u001b[39m(key), \u001b[38;5;28mstr\u001b[39m(value)) \u001b[38;5;28;01mfor\u001b[39;00m key, value \u001b[38;5;129;01min\u001b[39;00m params\u001b[38;5;241m.\u001b[39mitems()]\n\u001b[0;32m    832\u001b[0m         \u001b[38;5;28;01mif\u001b[39;00m params \u001b[38;5;129;01mis\u001b[39;00m \u001b[38;5;129;01mnot\u001b[39;00m \u001b[38;5;28;01mNone\u001b[39;00m\n\u001b[0;32m    833\u001b[0m         \u001b[38;5;28;01melse\u001b[39;00m params,\n\u001b[0;32m    834\u001b[0m         model_type\u001b[38;5;241m=\u001b[39mmodel_type,\n\u001b[0;32m    835\u001b[0m     )\n",
      "File \u001b[1;32mc:\\Users\\swapn\\anaconda3\\Lib\\site-packages\\mlflow\\store\\tracking\\rest_store.py:936\u001b[0m, in \u001b[0;36mRestStore.create_logged_model\u001b[1;34m(self, experiment_id, name, source_run_id, tags, params, model_type)\u001b[0m\n\u001b[0;32m    923\u001b[0m     remaining_params \u001b[38;5;241m=\u001b[39m params[initial_batch_size:]\n\u001b[0;32m    925\u001b[0m req_body \u001b[38;5;241m=\u001b[39m message_to_json(\n\u001b[0;32m    926\u001b[0m     CreateLoggedModel(\n\u001b[0;32m    927\u001b[0m         experiment_id\u001b[38;5;241m=\u001b[39mexperiment_id,\n\u001b[1;32m   (...)\u001b[0m\n\u001b[0;32m    933\u001b[0m     )\n\u001b[0;32m    934\u001b[0m )\n\u001b[1;32m--> 936\u001b[0m response_proto \u001b[38;5;241m=\u001b[39m \u001b[38;5;28mself\u001b[39m\u001b[38;5;241m.\u001b[39m_call_endpoint(CreateLoggedModel, req_body)\n\u001b[0;32m    937\u001b[0m model \u001b[38;5;241m=\u001b[39m LoggedModel\u001b[38;5;241m.\u001b[39mfrom_proto(response_proto\u001b[38;5;241m.\u001b[39mmodel)\n\u001b[0;32m    939\u001b[0m \u001b[38;5;66;03m# Log remaining params if there are any\u001b[39;00m\n",
      "File \u001b[1;32mc:\\Users\\swapn\\anaconda3\\Lib\\site-packages\\mlflow\\store\\tracking\\rest_store.py:135\u001b[0m, in \u001b[0;36mRestStore._call_endpoint\u001b[1;34m(self, api, json_body, endpoint, retry_timeout_seconds)\u001b[0m\n\u001b[0;32m    133\u001b[0m     endpoint, method \u001b[38;5;241m=\u001b[39m _METHOD_TO_INFO[api]\n\u001b[0;32m    134\u001b[0m response_proto \u001b[38;5;241m=\u001b[39m api\u001b[38;5;241m.\u001b[39mResponse()\n\u001b[1;32m--> 135\u001b[0m \u001b[38;5;28;01mreturn\u001b[39;00m call_endpoint(\n\u001b[0;32m    136\u001b[0m     \u001b[38;5;28mself\u001b[39m\u001b[38;5;241m.\u001b[39mget_host_creds(),\n\u001b[0;32m    137\u001b[0m     endpoint,\n\u001b[0;32m    138\u001b[0m     method,\n\u001b[0;32m    139\u001b[0m     json_body,\n\u001b[0;32m    140\u001b[0m     response_proto,\n\u001b[0;32m    141\u001b[0m     retry_timeout_seconds\u001b[38;5;241m=\u001b[39mretry_timeout_seconds,\n\u001b[0;32m    142\u001b[0m )\n",
      "File \u001b[1;32mc:\\Users\\swapn\\anaconda3\\Lib\\site-packages\\mlflow\\utils\\rest_utils.py:590\u001b[0m, in \u001b[0;36mcall_endpoint\u001b[1;34m(host_creds, endpoint, method, json_body, response_proto, extra_headers, retry_timeout_seconds)\u001b[0m\n\u001b[0;32m    587\u001b[0m     call_kwargs[\u001b[38;5;124m\"\u001b[39m\u001b[38;5;124mjson\u001b[39m\u001b[38;5;124m\"\u001b[39m] \u001b[38;5;241m=\u001b[39m json_body\n\u001b[0;32m    588\u001b[0m     response \u001b[38;5;241m=\u001b[39m http_request(\u001b[38;5;241m*\u001b[39m\u001b[38;5;241m*\u001b[39mcall_kwargs)\n\u001b[1;32m--> 590\u001b[0m response \u001b[38;5;241m=\u001b[39m verify_rest_response(response, endpoint)\n\u001b[0;32m    591\u001b[0m response_to_parse \u001b[38;5;241m=\u001b[39m response\u001b[38;5;241m.\u001b[39mtext\n\u001b[0;32m    592\u001b[0m \u001b[38;5;28;01mtry\u001b[39;00m:\n",
      "File \u001b[1;32mc:\\Users\\swapn\\anaconda3\\Lib\\site-packages\\mlflow\\utils\\rest_utils.py:304\u001b[0m, in \u001b[0;36mverify_rest_response\u001b[1;34m(response, endpoint)\u001b[0m\n\u001b[0;32m    302\u001b[0m \u001b[38;5;28;01mif\u001b[39;00m response\u001b[38;5;241m.\u001b[39mstatus_code \u001b[38;5;241m!=\u001b[39m \u001b[38;5;241m200\u001b[39m:\n\u001b[0;32m    303\u001b[0m     \u001b[38;5;28;01mif\u001b[39;00m _can_parse_as_json_object(response\u001b[38;5;241m.\u001b[39mtext):\n\u001b[1;32m--> 304\u001b[0m         \u001b[38;5;28;01mraise\u001b[39;00m RestException(json\u001b[38;5;241m.\u001b[39mloads(response\u001b[38;5;241m.\u001b[39mtext))\n\u001b[0;32m    305\u001b[0m     \u001b[38;5;28;01melse\u001b[39;00m:\n\u001b[0;32m    306\u001b[0m         base_msg \u001b[38;5;241m=\u001b[39m (\n\u001b[0;32m    307\u001b[0m             \u001b[38;5;124mf\u001b[39m\u001b[38;5;124m\"\u001b[39m\u001b[38;5;124mAPI request to endpoint \u001b[39m\u001b[38;5;132;01m{\u001b[39;00mendpoint\u001b[38;5;132;01m}\u001b[39;00m\u001b[38;5;124m \u001b[39m\u001b[38;5;124m\"\u001b[39m\n\u001b[0;32m    308\u001b[0m             \u001b[38;5;124mf\u001b[39m\u001b[38;5;124m\"\u001b[39m\u001b[38;5;124mfailed with error code \u001b[39m\u001b[38;5;132;01m{\u001b[39;00mresponse\u001b[38;5;241m.\u001b[39mstatus_code\u001b[38;5;132;01m}\u001b[39;00m\u001b[38;5;124m != 200\u001b[39m\u001b[38;5;124m\"\u001b[39m\n\u001b[0;32m    309\u001b[0m         )\n",
      "\u001b[1;31mRestException\u001b[0m: INTERNAL_ERROR: Response: {'error': 'unsupported endpoint, please contact support@dagshub.com'}"
     ]
    }
   ],
   "source": [
    "# Ideally you will not require following 4 lines if you have started fresh and do not have any previous dagshub credentials on your computer\n",
    "import os\n",
    "os.environ['MLFLOW_TRACKING_USERNAME'] = 'pushkarkishor.wankhede' # 'learnpythonlanguage'\n",
    "os.environ['MLFLOW_TRACKING_PASSWORD'] = 'caca06b575a02018b8ebf99a6a230776953eed5e' # \n",
    "os.environ['MLFLOW_TRACKING_URI'] = 'https://dagshub.com/pushkarkishor.wankhede/mlflow_dagshub_demo.mlflow'\n",
    "\n",
    "# Initialize MLflow\n",
    "mlflow.set_experiment(\"Anomaly Detection\")\n",
    "# mlflow.set_tracking_uri(\"http://localhost:5000\")\n",
    "\n",
    "for i, element in enumerate(models):\n",
    "    model_name = element[0]\n",
    "    params = element[1]\n",
    "    model = element[2]\n",
    "    report = reports[i]\n",
    "    \n",
    "    with mlflow.start_run(run_name=model_name):        \n",
    "        mlflow.log_params(params)\n",
    "        mlflow.log_metrics({\n",
    "            'accuracy': report['accuracy'],\n",
    "            'recall_class_1': report['1']['recall'],\n",
    "            'recall_class_0': report['0']['recall'],\n",
    "            'f1_score_macro': report['macro avg']['f1-score']\n",
    "        })  \n",
    "        \n",
    "        if \"XGB\" in model_name:\n",
    "            mlflow.xgboost.log_model(model, \"model\")\n",
    "        else:\n",
    "            mlflow.sklearn.log_model(model, \"model\")  "
   ]
  },
  {
   "cell_type": "code",
   "execution_count": null,
   "id": "1e1684c0",
   "metadata": {},
   "outputs": [],
   "source": []
  }
 ],
 "metadata": {
  "kernelspec": {
   "display_name": "base",
   "language": "python",
   "name": "python3"
  },
  "language_info": {
   "codemirror_mode": {
    "name": "ipython",
    "version": 3
   },
   "file_extension": ".py",
   "mimetype": "text/x-python",
   "name": "python",
   "nbconvert_exporter": "python",
   "pygments_lexer": "ipython3",
   "version": "3.12.7"
  }
 },
 "nbformat": 4,
 "nbformat_minor": 5
}
