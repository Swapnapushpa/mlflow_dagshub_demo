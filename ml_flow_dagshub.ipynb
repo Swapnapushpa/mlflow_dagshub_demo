{
 "cells": [
  {
   "cell_type": "markdown",
   "id": "b4f9d400",
   "metadata": {},
   "source": [
    "<h2 align='center'>Codebasics ML Course: ML Flow Dagshub Tutorial</h2>"
   ]
  },
  {
   "cell_type": "code",
   "execution_count": 1,
   "id": "5eb3c2b2",
   "metadata": {},
   "outputs": [],
   "source": [
    "import numpy as np\n",
    "from sklearn.datasets import make_classification\n",
    "from sklearn.model_selection import train_test_split\n",
    "from sklearn.linear_model import LogisticRegression\n",
    "from sklearn.ensemble import RandomForestClassifier\n",
    "from xgboost import XGBClassifier\n",
    "from sklearn.metrics import classification_report\n",
    "import warnings\n",
    "warnings.filterwarnings('ignore')"
   ]
  },
  {
   "cell_type": "code",
   "execution_count": 2,
   "id": "0878fc4c",
   "metadata": {},
   "outputs": [
    {
     "data": {
      "text/plain": [
       "(array([0, 1]), array([900, 100], dtype=int64))"
      ]
     },
     "execution_count": 2,
     "metadata": {},
     "output_type": "execute_result"
    }
   ],
   "source": [
    "# Step 1: Create an imbalanced binary classification dataset\n",
    "X, y = make_classification(n_samples=1000, n_features=10, n_informative=2, n_redundant=8, \n",
    "                           weights=[0.9, 0.1], flip_y=0, random_state=42)\n",
    "\n",
    "np.unique(y, return_counts=True)"
   ]
  },
  {
   "cell_type": "code",
   "execution_count": 3,
   "id": "2a6b80dd",
   "metadata": {},
   "outputs": [],
   "source": [
    "# Split the dataset into training and testing sets\n",
    "X_train, X_test, y_train, y_test = train_test_split(X, y, test_size=0.3, stratify=y, random_state=42)"
   ]
  },
  {
   "cell_type": "markdown",
   "id": "f3a6191b",
   "metadata": {},
   "source": [
    "#### Handle class imbalance"
   ]
  },
  {
   "cell_type": "code",
   "execution_count": 4,
   "id": "3190fd47",
   "metadata": {},
   "outputs": [
    {
     "data": {
      "text/plain": [
       "(array([0, 1]), array([619, 619], dtype=int64))"
      ]
     },
     "execution_count": 4,
     "metadata": {},
     "output_type": "execute_result"
    }
   ],
   "source": [
    "from imblearn.combine import SMOTETomek\n",
    "\n",
    "smt = SMOTETomek(random_state=42)\n",
    "X_train_res, y_train_res = smt.fit_resample(X_train, y_train)\n",
    "np.unique(y_train_res, return_counts=True)"
   ]
  },
  {
   "cell_type": "markdown",
   "id": "75b6f715",
   "metadata": {},
   "source": [
    "### Track Experiments"
   ]
  },
  {
   "cell_type": "code",
   "execution_count": 10,
   "id": "1eb49554",
   "metadata": {},
   "outputs": [],
   "source": [
    "models = [\n",
    "    (\n",
    "        \"Logistic Regression\", \n",
    "        {\"C\": 1, \"solver\": 'liblinear'},\n",
    "        LogisticRegression(), \n",
    "        (X_train, y_train),\n",
    "        (X_test, y_test)\n",
    "    ),\n",
    "    (\n",
    "        \"Random Forest\", \n",
    "        {\"n_estimators\": 30, \"max_depth\": 3},\n",
    "        RandomForestClassifier(), \n",
    "        (X_train, y_train),\n",
    "        (X_test, y_test)\n",
    "    ),\n",
    "    (\n",
    "        \"XGBClassifier\",\n",
    "        {\"use_label_encoder\": False, \"eval_metric\": 'logloss'},\n",
    "        XGBClassifier(), \n",
    "        (X_train, y_train),\n",
    "        (X_test, y_test)\n",
    "    ),\n",
    "    (\n",
    "        \"XGBClassifier With SMOTE\",\n",
    "        {\"use_label_encoder\": False, \"eval_metric\": 'logloss'},\n",
    "        XGBClassifier(), \n",
    "        (X_train_res, y_train_res),\n",
    "        (X_test, y_test)\n",
    "    )\n",
    "]"
   ]
  },
  {
   "cell_type": "code",
   "execution_count": 11,
   "id": "a91ad5ae",
   "metadata": {},
   "outputs": [],
   "source": [
    "reports = []\n",
    "\n",
    "for model_name, params, model, train_set, test_set in models:\n",
    "    X_train = train_set[0]\n",
    "    y_train = train_set[1]\n",
    "    X_test = test_set[0]\n",
    "    y_test = test_set[1]\n",
    "    \n",
    "    model.set_params(**params)\n",
    "    model.fit(X_train, y_train)\n",
    "    y_pred = model.predict(X_test)\n",
    "    report = classification_report(y_test, y_pred, output_dict=True)\n",
    "    reports.append(report)"
   ]
  },
  {
   "cell_type": "code",
   "execution_count": 12,
   "id": "08741b0a",
   "metadata": {},
   "outputs": [],
   "source": [
    "import mlflow\n",
    "import mlflow.sklearn\n",
    "import mlflow.xgboost"
   ]
  },
  {
   "cell_type": "code",
   "execution_count": 13,
   "id": "503f6e93",
   "metadata": {},
   "outputs": [
    {
     "data": {
      "text/html": [
       "<pre style=\"white-space:pre;overflow-x:auto;line-height:normal;font-family:Menlo,'DejaVu Sans Mono',consolas,'Courier New',monospace\">Initialized MLflow to track repo <span style=\"color: #008000; text-decoration-color: #008000\">\"pushkarkishor.wankhede/mlflow_dagshub_demo\"</span>\n",
       "</pre>\n"
      ],
      "text/plain": [
       "Initialized MLflow to track repo \u001b[32m\"pushkarkishor.wankhede/mlflow_dagshub_demo\"\u001b[0m\n"
      ]
     },
     "metadata": {},
     "output_type": "display_data"
    },
    {
     "data": {
      "text/html": [
       "<pre style=\"white-space:pre;overflow-x:auto;line-height:normal;font-family:Menlo,'DejaVu Sans Mono',consolas,'Courier New',monospace\">Repository pushkarkishor.wankhede/mlflow_dagshub_demo initialized!\n",
       "</pre>\n"
      ],
      "text/plain": [
       "Repository pushkarkishor.wankhede/mlflow_dagshub_demo initialized!\n"
      ]
     },
     "metadata": {},
     "output_type": "display_data"
    }
   ],
   "source": [
    "# dagshub setup\n",
    "\n",
    "import dagshub\n",
    "dagshub.init(repo_owner='pushkarkishor.wankhede', repo_name='mlflow_dagshub_demo', mlflow=True)"
   ]
  },
  {
   "cell_type": "code",
   "execution_count": 17,
   "id": "cfcc9a19",
   "metadata": {
    "scrolled": false
   },
   "outputs": [
    {
     "name": "stdout",
     "output_type": "stream",
     "text": [
      "🏃 View run Logistic Regression at: https://dagshub.com/pushkarkishor.wankhede/mlflow_dagshub_demo.mlflow/#/experiments/1/runs/84979812f74f449798af0d1b55ae152c\n",
      "🧪 View experiment at: https://dagshub.com/pushkarkishor.wankhede/mlflow_dagshub_demo.mlflow/#/experiments/1\n",
      "🏃 View run Random Forest at: https://dagshub.com/pushkarkishor.wankhede/mlflow_dagshub_demo.mlflow/#/experiments/1/runs/157076beaa6b4b2fb51ad05bc6086cfc\n",
      "🧪 View experiment at: https://dagshub.com/pushkarkishor.wankhede/mlflow_dagshub_demo.mlflow/#/experiments/1\n",
      "🏃 View run XGBClassifier at: https://dagshub.com/pushkarkishor.wankhede/mlflow_dagshub_demo.mlflow/#/experiments/1/runs/57e2db1ed8a74290b3b66f9dbf899da5\n",
      "🧪 View experiment at: https://dagshub.com/pushkarkishor.wankhede/mlflow_dagshub_demo.mlflow/#/experiments/1\n",
      "🏃 View run XGBClassifier With SMOTE at: https://dagshub.com/pushkarkishor.wankhede/mlflow_dagshub_demo.mlflow/#/experiments/1/runs/1b244408619342d1b8bc071c7ce0abe0\n",
      "🧪 View experiment at: https://dagshub.com/pushkarkishor.wankhede/mlflow_dagshub_demo.mlflow/#/experiments/1\n"
     ]
    }
   ],
   "source": [
    "# Ideally you will not require following 4 lines if you have started fresh and do not have any previous dagshub credentials on your computer\n",
    "import os\n",
    "os.environ['MLFLOW_TRACKING_USERNAME'] = 'pushkarkishor.wankhede' # 'learnpythonlanguage'\n",
    "os.environ['MLFLOW_TRACKING_PASSWORD'] = 'caca06b575a02018b8ebf99a6a230776953eed5e' # \n",
    "os.environ['MLFLOW_TRACKING_URI'] = 'https://dagshub.com/pushkarkishor.wankhede/mlflow_dagshub_demo.mlflow'\n",
    "\n",
    "# Initialize MLflow\n",
    "mlflow.set_experiment(\"Anomaly Detection New\")\n",
    "# mlflow.set_tracking_uri(\"http://localhost:5000\")\n",
    "\n",
    "for i, element in enumerate(models):\n",
    "    model_name = element[0]\n",
    "    params = element[1]\n",
    "    model = element[2]\n",
    "    report = reports[i]\n",
    "    \n",
    "    with mlflow.start_run(run_name=model_name):        \n",
    "        mlflow.log_params(params)\n",
    "        mlflow.log_metrics({\n",
    "            'accuracy': report['accuracy'],\n",
    "            'recall_class_1': report['1']['recall'],\n",
    "            'recall_class_0': report['0']['recall'],\n",
    "            'f1_score_macro': report['macro avg']['f1-score']\n",
    "        })  \n",
    "        \n",
    "    if \"XGB\" in model_name:\n",
    "        import xgboost as xgb\n",
    "        model.save_model(f\"{model_name}.json\")   # Manually save XGBoost model\n",
    "    else:\n",
    "        import joblib\n",
    "        joblib.dump(model, f\"{model_name}.pkl\")  # Manually save sklearn model\n"
   ]
  },
  {
   "cell_type": "code",
   "execution_count": null,
   "id": "ee88ff88",
   "metadata": {},
   "outputs": [],
   "source": []
  },
  {
   "cell_type": "code",
   "execution_count": null,
   "id": "1e1684c0",
   "metadata": {},
   "outputs": [],
   "source": []
  }
 ],
 "metadata": {
  "kernelspec": {
   "display_name": "base",
   "language": "python",
   "name": "python3"
  },
  "language_info": {
   "codemirror_mode": {
    "name": "ipython",
    "version": 3
   },
   "file_extension": ".py",
   "mimetype": "text/x-python",
   "name": "python",
   "nbconvert_exporter": "python",
   "pygments_lexer": "ipython3",
   "version": "3.12.7"
  }
 },
 "nbformat": 4,
 "nbformat_minor": 5
}
